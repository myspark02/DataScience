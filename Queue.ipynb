{
 "cells": [
  {
   "cell_type": "code",
   "execution_count": 2,
   "metadata": {},
   "outputs": [],
   "source": [
    "wmt_stock_price_queue = []"
   ]
  },
  {
   "cell_type": "code",
   "execution_count": 4,
   "metadata": {},
   "outputs": [],
   "source": [
    "wmt_stock_price_queue.insert(0, 131.10)\n",
    "wmt_stock_price_queue.insert(0, 132.12)\n",
    "wmt_stock_price_queue.insert(0, 135)"
   ]
  },
  {
   "cell_type": "code",
   "execution_count": 5,
   "metadata": {},
   "outputs": [
    {
     "data": {
      "text/plain": [
       "[135, 132.12, 131.1]"
      ]
     },
     "execution_count": 5,
     "metadata": {},
     "output_type": "execute_result"
    }
   ],
   "source": [
    "wmt_stock_price_queue"
   ]
  },
  {
   "cell_type": "code",
   "execution_count": 6,
   "metadata": {
    "scrolled": true
   },
   "outputs": [
    {
     "data": {
      "text/plain": [
       "131.1"
      ]
     },
     "execution_count": 6,
     "metadata": {},
     "output_type": "execute_result"
    }
   ],
   "source": [
    "wmt_stock_price_queue.pop()"
   ]
  },
  {
   "cell_type": "code",
   "execution_count": 7,
   "metadata": {},
   "outputs": [
    {
     "data": {
      "text/plain": [
       "132.12"
      ]
     },
     "execution_count": 7,
     "metadata": {},
     "output_type": "execute_result"
    }
   ],
   "source": [
    "wmt_stock_price_queue.pop()"
   ]
  },
  {
   "cell_type": "code",
   "execution_count": 8,
   "metadata": {},
   "outputs": [
    {
     "data": {
      "text/plain": [
       "135"
      ]
     },
     "execution_count": 8,
     "metadata": {},
     "output_type": "execute_result"
    }
   ],
   "source": [
    "wmt_stock_price_queue.pop()"
   ]
  },
  {
   "cell_type": "code",
   "execution_count": 12,
   "metadata": {},
   "outputs": [],
   "source": [
    "from collections import deque\n",
    "q = deque()"
   ]
  },
  {
   "cell_type": "code",
   "execution_count": 14,
   "metadata": {},
   "outputs": [],
   "source": [
    "q.appendleft(5)\n",
    "q.appendleft(8)\n",
    "q.appendleft(27)"
   ]
  },
  {
   "cell_type": "code",
   "execution_count": 15,
   "metadata": {},
   "outputs": [
    {
     "data": {
      "text/plain": [
       "5"
      ]
     },
     "execution_count": 15,
     "metadata": {},
     "output_type": "execute_result"
    }
   ],
   "source": [
    "q.pop()"
   ]
  },
  {
   "cell_type": "code",
   "execution_count": 17,
   "metadata": {},
   "outputs": [],
   "source": [
    "class Queue :\n",
    "    def __init__(self) :\n",
    "        self.queue = deque()\n",
    "    \n",
    "    def enqueue(self, val) :\n",
    "        self.queue.appendleft(val)\n",
    "        \n",
    "    def dequeue(self) :\n",
    "        return self.queue.pop()\n",
    "    \n",
    "    def is_empty(self) :\n",
    "        return len(self.queue) == 0\n",
    "    \n",
    "    def size(self) :\n",
    "        return len(self.queue)"
   ]
  },
  {
   "cell_type": "code",
   "execution_count": 18,
   "metadata": {},
   "outputs": [],
   "source": [
    "q = Queue()\n",
    "\n",
    "q.enqueue({\n",
    "    'company' : 'Wall Mart', \n",
    "    'timestamp' : '15 apr, 11.01 AM', \n",
    "    'price' : 131.10\n",
    "})\n",
    "\n",
    "q.enqueue({\n",
    "    'company' : 'Wall Mart', \n",
    "    'timestamp' : '15 apr, 11.02 AM', \n",
    "    'price' : 132\n",
    "})\n",
    "\n",
    "q.enqueue({\n",
    "    'company' : 'Wall Mart', \n",
    "    'timestamp' : '15 apr, 11.01 AM', \n",
    "    'price' : 135\n",
    "})\n"
   ]
  },
  {
   "cell_type": "code",
   "execution_count": 19,
   "metadata": {},
   "outputs": [
    {
     "data": {
      "text/plain": [
       "deque([{'company': 'Wall Mart', 'timestamp': '15 apr, 11.01 AM', 'price': 135},\n",
       "       {'company': 'Wall Mart', 'timestamp': '15 apr, 11.02 AM', 'price': 132},\n",
       "       {'company': 'Wall Mart',\n",
       "        'timestamp': '15 apr, 11.01 AM',\n",
       "        'price': 131.1}])"
      ]
     },
     "execution_count": 19,
     "metadata": {},
     "output_type": "execute_result"
    }
   ],
   "source": [
    "q.queue"
   ]
  },
  {
   "cell_type": "code",
   "execution_count": 20,
   "metadata": {},
   "outputs": [
    {
     "data": {
      "text/plain": [
       "{'company': 'Wall Mart', 'timestamp': '15 apr, 11.01 AM', 'price': 131.1}"
      ]
     },
     "execution_count": 20,
     "metadata": {},
     "output_type": "execute_result"
    }
   ],
   "source": [
    "q.dequeue() "
   ]
  },
  {
   "cell_type": "code",
   "execution_count": 21,
   "metadata": {},
   "outputs": [
    {
     "data": {
      "text/plain": [
       "2"
      ]
     },
     "execution_count": 21,
     "metadata": {},
     "output_type": "execute_result"
    }
   ],
   "source": [
    "q.size()"
   ]
  },
  {
   "cell_type": "code",
   "execution_count": 31,
   "metadata": {},
   "outputs": [
    {
     "name": "stdout",
     "output_type": "stream",
     "text": [
      "Thread for placing order starting...\n",
      "\n",
      "Placing order for pizza\n",
      "\n",
      "Placing order for samosa\n",
      "Thread for serving orders starting...\n",
      "\n",
      "Now serving:  pizza\n",
      "\n",
      "Placing order for pasta\n",
      "\n",
      "Placing order for biryani\n",
      "\n",
      "Placing order for burger\n",
      "\n",
      "Now serving:  samosa\n",
      "\n",
      "Now serving:  pasta\n",
      "\n",
      "Now serving:  biryani\n",
      "\n",
      "Now serving:  burger\n",
      "Finished....\n"
     ]
    }
   ],
   "source": [
    "# Design a food ordering system where your python program will run two threads,\n",
    "\n",
    "# Place Order: This thread will be placing an order and inserting that into a queue. \n",
    "# This thread places new order every 0.5 second. (hint: use time.sleep(0.5) function)\n",
    "# Serve Order: This thread will server the order. \n",
    "# All you need to do is pop the order out of the queue and print it. \n",
    "# This thread serves an order every 2 seconds. \n",
    "# Also start this thread 1 second after place order thread is started.\n",
    "\n",
    "# Pass following list as an argument to place order thread,\n",
    "\n",
    "# orders = ['pizza','samosa','pasta','biryani','burger']\n",
    "# This problem is a producer,consumer problem \n",
    "# where place_order thread is producing orders whereas server_order thread is consuming the food orders. \n",
    "\n",
    "from threading import Thread\n",
    "import time\n",
    "\n",
    "queue = Queue()\n",
    "\n",
    "def place_order(orders) :\n",
    "    for order in orders :\n",
    "        print('\\nPlacing order for', order)\n",
    "        queue.enqueue(order)\n",
    "        time.sleep(0.5)\n",
    "        \n",
    "\n",
    "def serve_order() :\n",
    "    while not queue.is_empty() :\n",
    "#     while True :\n",
    "        print('\\nNow serving: ', queue.dequeue())\n",
    "        time.sleep(2)\n",
    "        \n",
    "        \n",
    "orders = ['pizza','samosa','pasta','biryani','burger']\n",
    "producer = Thread(target=place_order, args=(orders,))\n",
    "producer.daemon = True\n",
    "print('Thread for placing order starting...')\n",
    "producer.start()\n",
    "\n",
    "time.sleep(1)\n",
    "print('Thread for serving orders starting...')\n",
    "consumer = Thread(target=serve_order)\n",
    "consumer.daemon = True\n",
    "consumer.start()\n",
    "\n",
    "producer.join()\n",
    "consumer.join()\n",
    "\n",
    "print('Finished....')"
   ]
  },
  {
   "cell_type": "code",
   "execution_count": null,
   "metadata": {},
   "outputs": [],
   "source": []
  }
 ],
 "metadata": {
  "kernelspec": {
   "display_name": "Python 3",
   "language": "python",
   "name": "python3"
  },
  "language_info": {
   "codemirror_mode": {
    "name": "ipython",
    "version": 3
   },
   "file_extension": ".py",
   "mimetype": "text/x-python",
   "name": "python",
   "nbconvert_exporter": "python",
   "pygments_lexer": "ipython3",
   "version": "3.8.5"
  }
 },
 "nbformat": 4,
 "nbformat_minor": 4
}
