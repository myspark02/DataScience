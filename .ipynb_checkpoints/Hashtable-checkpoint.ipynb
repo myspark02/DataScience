{
 "cells": [
  {
   "cell_type": "code",
   "execution_count": 2,
   "metadata": {},
   "outputs": [],
   "source": [
    "stock_prices = {}\n",
    "with open(\"stock_prices.csv\", \"r\") as f :\n",
    "    for line in f:\n",
    "        tokens = line.split(\",\")\n",
    "        day = tokens[0]\n",
    "        price = float(tokens[1])\n",
    "        stock_prices[day] = price\n",
    "        "
   ]
  },
  {
   "cell_type": "code",
   "execution_count": 3,
   "metadata": {},
   "outputs": [
    {
     "data": {
      "text/plain": [
       "{'6.Mar': 310.0,\n",
       " '7.Mar': 340.0,\n",
       " '8.Mar': 380.0,\n",
       " '9.Mar': 302.0,\n",
       " '10.Mar': 297.0,\n",
       " '11.Mar': 323.0}"
      ]
     },
     "execution_count": 3,
     "metadata": {},
     "output_type": "execute_result"
    }
   ],
   "source": [
    "stock_prices"
   ]
  },
  {
   "cell_type": "code",
   "execution_count": 4,
   "metadata": {},
   "outputs": [
    {
     "data": {
      "text/plain": [
       "310.0"
      ]
     },
     "execution_count": 4,
     "metadata": {},
     "output_type": "execute_result"
    }
   ],
   "source": [
    "stock_prices['6.Mar']"
   ]
  },
  {
   "cell_type": "code",
   "execution_count": 7,
   "metadata": {},
   "outputs": [],
   "source": [
    "def get_hash(key) :\n",
    "    h = 0\n",
    "    for char in key :\n",
    "        h += ord(char)\n",
    "    return h % 100"
   ]
  },
  {
   "cell_type": "code",
   "execution_count": 8,
   "metadata": {},
   "outputs": [
    {
     "data": {
      "text/plain": [
       "88"
      ]
     },
     "execution_count": 8,
     "metadata": {},
     "output_type": "execute_result"
    }
   ],
   "source": [
    "get_hash('6.Mar')"
   ]
  },
  {
   "cell_type": "code",
   "execution_count": 114,
   "metadata": {},
   "outputs": [],
   "source": [
    "class HashTable :\n",
    "    def __init__(self) :\n",
    "        self.MAX = 100\n",
    "        self.arr = [[] for i in range(self.MAX)]\n",
    "    \n",
    "    def get_hash(self, key) :\n",
    "        h = 0\n",
    "        for char in key :\n",
    "            h += ord(char)\n",
    "        return h % self.MAX\n",
    "    \n",
    "    def add(self, key, val) :\n",
    "        h = self.get_hash(key)\n",
    "        found = False\n",
    "        for idx, element in enumerate(self.arr[h]):\n",
    "            print(element)\n",
    "            if element[0] == key : # update \n",
    "                self.arr[h][idx] = (key, val)\n",
    "                found = True\n",
    "                break;\n",
    "                \n",
    "        if not found :\n",
    "            self.arr[h].append((key, val))\n",
    "       \n",
    "\n",
    "    def __setitem__(self, key, val):\n",
    "        self.add(key, val)\n",
    "        \n",
    "    def __getitem__(self, key) :\n",
    "        return self.get(key)\n",
    "    \n",
    "    def get(self, key) :\n",
    "        h = self.get_hash(key)\n",
    "        for element in self.arr[h] :\n",
    "            if element[0] == key :\n",
    "                return element[1]\n",
    "        return None\n",
    "    \n",
    "    def __delitem__(self, key) :\n",
    "        h = self.get_hash(key)\n",
    "        \n",
    "        for idx, element in enumerate(self.arr[h]) :\n",
    "            if element[0] == key :\n",
    "                del self.arr[h][idx]\n",
    "        "
   ]
  },
  {
   "cell_type": "code",
   "execution_count": 115,
   "metadata": {},
   "outputs": [],
   "source": [
    "t = HashTable()\n",
    "t.add('march 6', 120)"
   ]
  },
  {
   "cell_type": "code",
   "execution_count": 116,
   "metadata": {},
   "outputs": [
    {
     "name": "stdout",
     "output_type": "stream",
     "text": [
      "('march 1', 110)\n"
     ]
    }
   ],
   "source": [
    "t['march 7'] = 150\n",
    "t['march 1'] = 110\n",
    "t['december 1'] = 130"
   ]
  },
  {
   "cell_type": "code",
   "execution_count": 117,
   "metadata": {},
   "outputs": [
    {
     "name": "stdout",
     "output_type": "stream",
     "text": [
      "150\n",
      "110\n",
      "120\n",
      "None\n"
     ]
    }
   ],
   "source": [
    "print(t['march 7'])\n",
    "print(t['march 1'])\n",
    "del t['december 1']\n",
    "print(t['march 6'])\n",
    "print(t['december 1'])"
   ]
  },
  {
   "cell_type": "code",
   "execution_count": 132,
   "metadata": {},
   "outputs": [],
   "source": [
    "tmp = [elem for elem in t.arr if len(elem) > 0]"
   ]
  },
  {
   "cell_type": "code",
   "execution_count": 133,
   "metadata": {},
   "outputs": [
    {
     "data": {
      "text/plain": [
       "[[('march 1', 110)], [('march 6', 120)], [('march 7', 150)]]"
      ]
     },
     "execution_count": 133,
     "metadata": {},
     "output_type": "execute_result"
    }
   ],
   "source": [
    "tmp"
   ]
  },
  {
   "cell_type": "code",
   "execution_count": 134,
   "metadata": {},
   "outputs": [
    {
     "name": "stdout",
     "output_type": "stream",
     "text": [
      "1: 4\n",
      "2: 4\n"
     ]
    }
   ],
   "source": [
    "print('1:', t.get_hash('march 1'))\n",
    "print('2:', t.get_hash('december 1'))"
   ]
  },
  {
   "cell_type": "code",
   "execution_count": 136,
   "metadata": {},
   "outputs": [
    {
     "name": "stdout",
     "output_type": "stream",
     "text": [
      "Average temparature:31.285714285714285\n",
      "Max temparature:38\n",
      "\n"
     ]
    }
   ],
   "source": [
    "# nyc_weather.csv contains new york city weather for first few days in the month of January. Write a program that can answer following,\n",
    "# What was the average temperature in first week of Jan\n",
    "# What was the maximum temperature in first 10 days of Jan\n",
    "\n",
    "with open('nyc_weather.csv', 'r') as f :\n",
    "    f.readline() # read away the first line\n",
    "    sum = 0\n",
    "    idx = 0\n",
    "    max = 0\n",
    "    for line in f :\n",
    "        tokens = line.split(',')\n",
    "        if idx == 0:\n",
    "            max = tokens[1]\n",
    "            \n",
    "        if (idx < 7) :\n",
    "            sum += int(tokens[1])\n",
    "            \n",
    "        if (0 < idx < 10 and tokens[1] > max) :\n",
    "            max = tokens[1]\n",
    "            \n",
    "        idx += 1\n",
    "\n",
    "print('Average temparature:' + str(sum/7))\n",
    "print('Max temparature:' + str(max))\n",
    "        \n",
    "        \n"
   ]
  },
  {
   "cell_type": "code",
   "execution_count": 147,
   "metadata": {},
   "outputs": [
    {
     "name": "stdout",
     "output_type": "stream",
     "text": [
      "Invalid temperature. Ignore the row\n"
     ]
    }
   ],
   "source": [
    "arr = []\n",
    "\n",
    "with open('nyc_weather.csv', 'r') as f :\n",
    "    for line in f:\n",
    "        tokens = line.split(',')\n",
    "        try :\n",
    "            arr.append(int(tokens[1]))\n",
    "        except :\n",
    "            print(\"Invalid temperature. Ignore the row\")"
   ]
  },
  {
   "cell_type": "code",
   "execution_count": 148,
   "metadata": {},
   "outputs": [
    {
     "data": {
      "text/plain": [
       "[27, 31, 23, 34, 37, 38, 29, 30, 35, 30]"
      ]
     },
     "execution_count": 148,
     "metadata": {},
     "output_type": "execute_result"
    }
   ],
   "source": [
    "arr"
   ]
  },
  {
   "cell_type": "code",
   "execution_count": 152,
   "metadata": {},
   "outputs": [
    {
     "name": "stdout",
     "output_type": "stream",
     "text": [
      "Invalid temperature. Ignore the row\n",
      "Temperature on Jan 9: 35\n",
      "Temperature on Jan 4: 34\n"
     ]
    }
   ],
   "source": [
    "# nyc_weather.csv contains new york city weather for first few days in the month of January. Write a program that can answer following,\n",
    "# What was the temperature on Jan 9?\n",
    "# What was the temperature on Jan 4?\n",
    "with open('nyc_weather.csv', 'r') as f :\n",
    "    ht = HashTable()\n",
    "    for line in f:\n",
    "        tokens = line.split(',')\n",
    "        try :\n",
    "            temperature = int(tokens[1])\n",
    "            ht[tokens[0]] = temperature\n",
    "        except:\n",
    "            print(\"Invalid temperature. Ignore the row\")\n",
    "            \n",
    "    print('Temperature on Jan 9:', ht['Jan 9'])    \n",
    "    print('Temperature on Jan 4:', ht['Jan 4'])        \n"
   ]
  },
  {
   "cell_type": "code",
   "execution_count": 159,
   "metadata": {},
   "outputs": [
    {
     "name": "stdout",
     "output_type": "stream",
     "text": [
      "diverged: 2\n",
      "in: 3\n",
      "I: 8\n"
     ]
    }
   ],
   "source": [
    "# poem.txt Contains famous poem \"Road not taken\" by poet Robert Frost. You have to read this file in python and print every word and its count as show below. Think about the best data structure that you can use to solve this problem and figure out why you selected that specific data structure.\n",
    "#  'diverged': 2,\n",
    "#  'in': 3,\n",
    "#  'I': 8\n",
    "word_count = {}\n",
    "with open(\"poem.txt\", \"r\") as file :\n",
    "    for line in file:\n",
    "        tokens = line.split()\n",
    "        for word in tokens :\n",
    "            try :\n",
    "                cnt = word_count[word]\n",
    "                word_count[word] += 1\n",
    "            except:\n",
    "                word_count[word] = 1\n",
    "\n",
    "print('diverged:', word_count['diverged'])\n",
    "print('in:', word_count['in'])\n",
    "print('I:', word_count['I'])\n",
    "        "
   ]
  },
  {
   "cell_type": "code",
   "execution_count": 161,
   "metadata": {},
   "outputs": [
    {
     "name": "stdout",
     "output_type": "stream",
     "text": [
      "diverged: 2\n",
      "in: 3\n",
      "I: 8\n"
     ]
    }
   ],
   "source": [
    "# poem.txt Contains famous poem \"Road not taken\" by poet Robert Frost. You have to read this file in python and print every word and its count as show below. Think about the best data structure that you can use to solve this problem and figure out why you selected that specific data structure.\n",
    "#  'diverged': 2,\n",
    "#  'in': 3,\n",
    "#  'I': 8\n",
    "word_count = {}\n",
    "with open(\"poem.txt\", \"r\") as file :\n",
    "    for line in file:\n",
    "        tokens = line.split()\n",
    "        for word in tokens :\n",
    "            word = word.replace('\\n', '')\n",
    "            if word in word_count :\n",
    "                word_count[word] += 1\n",
    "            else :\n",
    "                word_count[word] = 1\n",
    "\n",
    "print('diverged:', word_count['diverged'])\n",
    "print('in:', word_count['in'])\n",
    "print('I:', word_count['I'])               \n",
    "                "
   ]
  },
  {
   "cell_type": "code",
   "execution_count": null,
   "metadata": {},
   "outputs": [],
   "source": [
    "# Implement hash table where collisions are handled using linear probing. \n",
    "# Keep MAX size of arr in hashtable as 10.\n",
    "\n",
    "class HashTable :\n",
    "    def __init__(self) :\n",
    "        self.MAX = 10\n",
    "        self.arr = [[] for i in range(self.MAX)]\n",
    "    \n",
    "    def get_hash(self, key) :\n",
    "        h = 0\n",
    "        for char in key :\n",
    "            h += ord(char)\n",
    "        return h % self.MAX\n",
    "      \n",
    "\n",
    "    def __setitem__(self, key, val):\n",
    "        h = self.get_hash(key)\n",
    "        found = False\n",
    "        if self.arr[h][0] == key : # update\n",
    "            self.arr[h] = [key, val]\n",
    "        else :\n",
    "            i = h+1\n",
    "            while (i != h) :\n",
    "                if len(self.arr[i]) == 0 :\n",
    "                    self.arr[i] = [key, val]\n",
    "            \n",
    "            if i == h :\n",
    "                print('Hashtable is full')\n",
    "                \n",
    "        \n",
    "    def __getitem__(self, key) :\n",
    "        return self.get(key)\n",
    "    \n",
    "    def get(self, key) :\n",
    "        h = self.get_hash(key)\n",
    "        for element in self.arr[h] :\n",
    "            if element[0] == key :\n",
    "                return element[1]\n",
    "        return None\n",
    "    \n",
    "    def __delitem__(self, key) :\n",
    "        h = self.get_hash(key)\n",
    "        \n",
    "        for idx, element in enumerate(self.arr[h]) :\n",
    "            if element[0] == key :\n",
    "                del self.arr[h][idx]"
   ]
  }
 ],
 "metadata": {
  "kernelspec": {
   "display_name": "Python 3",
   "language": "python",
   "name": "python3"
  },
  "language_info": {
   "codemirror_mode": {
    "name": "ipython",
    "version": 3
   },
   "file_extension": ".py",
   "mimetype": "text/x-python",
   "name": "python",
   "nbconvert_exporter": "python",
   "pygments_lexer": "ipython3",
   "version": "3.8.5"
  }
 },
 "nbformat": 4,
 "nbformat_minor": 4
}
