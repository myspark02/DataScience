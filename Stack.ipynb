{
 "cells": [
  {
   "cell_type": "code",
   "execution_count": 10,
   "metadata": {},
   "outputs": [],
   "source": [
    "s = []\n",
    "s.append('https://www.bbc.com')\n",
    "s.append('https://www.bbc.com/news')\n",
    "s.append('https://www.bbc.com/news/world')\n",
    "s.append('https://www.bbc.com/news/world/asia')"
   ]
  },
  {
   "cell_type": "code",
   "execution_count": 17,
   "metadata": {},
   "outputs": [
    {
     "data": {
      "text/plain": [
       "'https://www.bbc.com'"
      ]
     },
     "execution_count": 17,
     "metadata": {},
     "output_type": "execute_result"
    }
   ],
   "source": [
    "s[-4]"
   ]
  },
  {
   "cell_type": "code",
   "execution_count": 2,
   "metadata": {
    "scrolled": true
   },
   "outputs": [
    {
     "data": {
      "text/plain": [
       "'https://www.bbc.com/news/world/asia'"
      ]
     },
     "execution_count": 2,
     "metadata": {},
     "output_type": "execute_result"
    }
   ],
   "source": [
    "s.pop()"
   ]
  },
  {
   "cell_type": "code",
   "execution_count": 3,
   "metadata": {},
   "outputs": [
    {
     "data": {
      "text/plain": [
       "['https://www.bbc.com',\n",
       " 'https://www.bbc.com/news',\n",
       " 'https://www.bbc.com/news/world']"
      ]
     },
     "execution_count": 3,
     "metadata": {},
     "output_type": "execute_result"
    }
   ],
   "source": [
    "s"
   ]
  },
  {
   "cell_type": "code",
   "execution_count": 4,
   "metadata": {},
   "outputs": [
    {
     "data": {
      "text/plain": [
       "'https://www.bbc.com/news/world'"
      ]
     },
     "execution_count": 4,
     "metadata": {},
     "output_type": "execute_result"
    }
   ],
   "source": [
    "s.pop()"
   ]
  },
  {
   "cell_type": "code",
   "execution_count": 5,
   "metadata": {},
   "outputs": [
    {
     "data": {
      "text/plain": [
       "'https://www.bbc.com/news'"
      ]
     },
     "execution_count": 5,
     "metadata": {},
     "output_type": "execute_result"
    }
   ],
   "source": [
    "s.pop()"
   ]
  },
  {
   "cell_type": "code",
   "execution_count": 6,
   "metadata": {},
   "outputs": [
    {
     "data": {
      "text/plain": [
       "'https://www.bbc.com'"
      ]
     },
     "execution_count": 6,
     "metadata": {},
     "output_type": "execute_result"
    }
   ],
   "source": [
    "s.pop()"
   ]
  },
  {
   "cell_type": "code",
   "execution_count": 18,
   "metadata": {},
   "outputs": [],
   "source": [
    "from collections import deque\n",
    "stack = deque()"
   ]
  },
  {
   "cell_type": "code",
   "execution_count": 20,
   "metadata": {},
   "outputs": [],
   "source": [
    "stack.append('https://www.bbc.com')\n",
    "stack.append('https://www.bbc.com/news')\n",
    "stack.append('https://www.bbc.com/news/world')\n",
    "stack.append('https://www.bbc.com/news/world/asia')"
   ]
  },
  {
   "cell_type": "code",
   "execution_count": 21,
   "metadata": {},
   "outputs": [
    {
     "data": {
      "text/plain": [
       "deque(['https://www.bbc.com',\n",
       "       'https://www.bbc.com/news',\n",
       "       'https://www.bbc.com/news/world',\n",
       "       'https://www.bbc.com/news/world/asia'])"
      ]
     },
     "execution_count": 21,
     "metadata": {},
     "output_type": "execute_result"
    }
   ],
   "source": [
    "stack"
   ]
  },
  {
   "cell_type": "code",
   "execution_count": 22,
   "metadata": {},
   "outputs": [
    {
     "data": {
      "text/plain": [
       "'https://www.bbc.com/news/world/asia'"
      ]
     },
     "execution_count": 22,
     "metadata": {},
     "output_type": "execute_result"
    }
   ],
   "source": [
    "stack.pop()"
   ]
  },
  {
   "cell_type": "code",
   "execution_count": 23,
   "metadata": {},
   "outputs": [
    {
     "data": {
      "text/plain": [
       "deque(['https://www.bbc.com',\n",
       "       'https://www.bbc.com/news',\n",
       "       'https://www.bbc.com/news/world'])"
      ]
     },
     "execution_count": 23,
     "metadata": {},
     "output_type": "execute_result"
    }
   ],
   "source": [
    "stack"
   ]
  },
  {
   "cell_type": "code",
   "execution_count": 65,
   "metadata": {},
   "outputs": [],
   "source": [
    "class Stack :\n",
    "    def __init__(self) :\n",
    "        self.container = deque()\n",
    "    \n",
    "    def push(self, val) :\n",
    "        self.container.append(val)\n",
    "    \n",
    "    def  pop(self) :\n",
    "        return self.container.pop()\n",
    "    \n",
    "    def peek(self) :\n",
    "        return self.container[-1]\n",
    "\n",
    "    def is_empty(self) :\n",
    "        return len(self.container) == 0\n",
    "\n",
    "    def size(self): \n",
    "        return len(self.container)\n",
    "        "
   ]
  },
  {
   "cell_type": "code",
   "execution_count": 66,
   "metadata": {},
   "outputs": [],
   "source": [
    "s = Stack()\n",
    "s.push(5)"
   ]
  },
  {
   "cell_type": "code",
   "execution_count": 67,
   "metadata": {},
   "outputs": [
    {
     "data": {
      "text/plain": [
       "5"
      ]
     },
     "execution_count": 67,
     "metadata": {},
     "output_type": "execute_result"
    }
   ],
   "source": [
    "s.peek()"
   ]
  },
  {
   "cell_type": "code",
   "execution_count": 68,
   "metadata": {},
   "outputs": [
    {
     "data": {
      "text/plain": [
       "5"
      ]
     },
     "execution_count": 68,
     "metadata": {},
     "output_type": "execute_result"
    }
   ],
   "source": [
    "s.peek()"
   ]
  },
  {
   "cell_type": "code",
   "execution_count": 69,
   "metadata": {},
   "outputs": [],
   "source": [
    "s.is_empty()\n",
    "s.push(67)\n",
    "s.push(23)"
   ]
  },
  {
   "cell_type": "code",
   "execution_count": 70,
   "metadata": {},
   "outputs": [
    {
     "data": {
      "text/plain": [
       "3"
      ]
     },
     "execution_count": 70,
     "metadata": {},
     "output_type": "execute_result"
    }
   ],
   "source": [
    "s.size()"
   ]
  },
  {
   "cell_type": "code",
   "execution_count": 71,
   "metadata": {},
   "outputs": [
    {
     "name": "stdout",
     "output_type": "stream",
     "text": [
      "stack size: 24\n",
      "91-DIVOC reuqnoc lliw eW\n"
     ]
    }
   ],
   "source": [
    "# Write a function in python that can reverse a string using stack data structure. \n",
    "#reverse_string(\"We will conquere COVID-19\") should return \"91-DIVOC ereuqnoc lliw eW\"\n",
    "\n",
    "def reverse_string(s) :\n",
    "    stack = Stack()\n",
    "    \n",
    "    for c in s :\n",
    "        stack.push(c)\n",
    "           \n",
    "    result = ''\n",
    "    print('stack size:', stack.size())\n",
    "    while not stack.is_empty() :\n",
    "        result += str(stack.pop())\n",
    "    \n",
    "    return result\n",
    "\n",
    "if __name__ == '__main__' :\n",
    "    print(reverse_string('We will conquer COVID-19'))"
   ]
  },
  {
   "cell_type": "code",
   "execution_count": 79,
   "metadata": {},
   "outputs": [
    {
     "name": "stdout",
     "output_type": "stream",
     "text": [
      "True\n",
      "False\n",
      "True\n",
      "False\n",
      "True\n"
     ]
    }
   ],
   "source": [
    "# Write a function in python that checks if paranthesis in the string are balanced or not. \n",
    "# Possible parantheses are \"{}',\"()\" or \"[]\". \n",
    "# is_balanced(\"({a+b})\")     --> True\n",
    "# is_balanced(\"))((a+b}{\")   --> False\n",
    "# is_balanced(\"((a+b))\")     --> True\n",
    "# is_balanced(\"))\")          --> False\n",
    "# is_balanced(\"[a+b]*(x+2y)*{gg+kk}\") --> True\n",
    "\n",
    "def is_match(cb, ob) :\n",
    "    if (cb == ')') :\n",
    "        return ob == '('\n",
    "    elif cb == '}' :\n",
    "        return ob == '{'\n",
    "    else :\n",
    "        return ob == '['\n",
    "    \n",
    "def is_balanced(s) :\n",
    "    stack = Stack()\n",
    "\n",
    "    for c in s :\n",
    "        if c in ['(', '{', '['] :\n",
    "            stack.push(c)\n",
    "        elif c in [')', '}', ']'] :\n",
    "            if stack.is_empty() or not is_match(c, stack.pop()):\n",
    "                return False\n",
    "                \n",
    "                \n",
    "    return stack.is_empty()\n",
    "\n",
    "print(is_balanced(\"({a+b})\") )\n",
    "print(is_balanced(\"))((a+b}{\"))\n",
    "print(is_balanced(\"((a+b))\") )\n",
    "print(is_balanced(\"))\"))\n",
    "print(is_balanced(\"[a+b]*(x+2y)*{gg+kk}\"))"
   ]
  },
  {
   "cell_type": "code",
   "execution_count": null,
   "metadata": {},
   "outputs": [],
   "source": []
  }
 ],
 "metadata": {
  "kernelspec": {
   "display_name": "Python 3",
   "language": "python",
   "name": "python3"
  },
  "language_info": {
   "codemirror_mode": {
    "name": "ipython",
    "version": 3
   },
   "file_extension": ".py",
   "mimetype": "text/x-python",
   "name": "python",
   "nbconvert_exporter": "python",
   "pygments_lexer": "ipython3",
   "version": "3.8.5"
  }
 },
 "nbformat": 4,
 "nbformat_minor": 4
}
